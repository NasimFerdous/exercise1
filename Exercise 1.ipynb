{
 "cells": [
  {
   "cell_type": "code",
   "execution_count": 2,
   "id": "d67ef9c0",
   "metadata": {},
   "outputs": [],
   "source": [
    "ice_cream_rating= 8\n",
    "sleeping_rating= 9"
   ]
  },
  {
   "cell_type": "code",
   "execution_count": null,
   "id": "80c6f164",
   "metadata": {
    "scrolled": true
   },
   "outputs": [],
   "source": [
    "first_name= input('Nasim')\n",
    "last_name= input('Ferdous')\n",
    "my_name= input('Nasim Ferdous')"
   ]
  },
  {
   "cell_type": "code",
   "execution_count": 1,
   "id": "3048eaa3",
   "metadata": {},
   "outputs": [
    {
     "name": "stdout",
     "output_type": "stream",
     "text": [
      "Where are you from? bs\n",
      "bs is a nice place!\n"
     ]
    }
   ],
   "source": [
    "place = input(\"Where are you from? \")\n",
    "print(place, \"is a nice place!\")"
   ]
  },
  {
   "cell_type": "code",
   "execution_count": 5,
   "id": "b10493fc",
   "metadata": {},
   "outputs": [
    {
     "name": "stdout",
     "output_type": "stream",
     "text": [
      "Where are you from? Dhaka\n"
     ]
    }
   ],
   "source": [
    "place = input(\"Where are you from? \")"
   ]
  },
  {
   "cell_type": "code",
   "execution_count": 6,
   "id": "bc58e404",
   "metadata": {},
   "outputs": [
    {
     "name": "stdout",
     "output_type": "stream",
     "text": [
      "Dhaka is a nice place!\n"
     ]
    }
   ],
   "source": [
    "print(place, \"is a nice place!\")"
   ]
  },
  {
   "cell_type": "code",
   "execution_count": 2,
   "id": "742a508e",
   "metadata": {},
   "outputs": [
    {
     "name": "stdout",
     "output_type": "stream",
     "text": [
      "Nasim\n"
     ]
    }
   ],
   "source": [
    "first_name= input(\"\")"
   ]
  },
  {
   "cell_type": "code",
   "execution_count": 1,
   "id": "7dc14331",
   "metadata": {},
   "outputs": [
    {
     "name": "stdout",
     "output_type": "stream",
     "text": [
      "Ferdous\n"
     ]
    }
   ],
   "source": [
    "last_name= input(\"\")"
   ]
  },
  {
   "cell_type": "code",
   "execution_count": 5,
   "id": "7726b2d0",
   "metadata": {},
   "outputs": [
    {
     "name": "stdout",
     "output_type": "stream",
     "text": [
      "Nasim Ferdous is my name\n"
     ]
    }
   ],
   "source": [
    "print(first_name,last_name, \"is my name\")"
   ]
  },
  {
   "cell_type": "code",
   "execution_count": 31,
   "id": "4c795d1f",
   "metadata": {},
   "outputs": [
    {
     "name": "stdout",
     "output_type": "stream",
     "text": [
      " nasim\n",
      " ferdous\n",
      "nasim ferdous is my name\n"
     ]
    }
   ],
   "source": [
    "first_name= input(\" \")\n",
    "last_name= input(\" \")\n",
    "my_name= \"nasim ferdous\"\n",
    "print(my_name + \" is my name\")"
   ]
  },
  {
   "cell_type": "code",
   "execution_count": 33,
   "id": "fbd4b00e",
   "metadata": {},
   "outputs": [
    {
     "name": "stdout",
     "output_type": "stream",
     "text": [
      "8\n",
      "9\n",
      "8.5\n"
     ]
    }
   ],
   "source": [
    "ice_cream_rating=int(input())\n",
    "sleeping_rating=int(input())\n",
    "happiness_rating= (ice_cream_rating+sleeping_rating)/2 \n",
    "print(happiness_rating)"
   ]
  },
  {
   "cell_type": "code",
   "execution_count": null,
   "id": "58d3b763",
   "metadata": {},
   "outputs": [],
   "source": []
  }
 ],
 "metadata": {
  "kernelspec": {
   "display_name": "Python 3 (ipykernel)",
   "language": "python",
   "name": "python3"
  },
  "language_info": {
   "codemirror_mode": {
    "name": "ipython",
    "version": 3
   },
   "file_extension": ".py",
   "mimetype": "text/x-python",
   "name": "python",
   "nbconvert_exporter": "python",
   "pygments_lexer": "ipython3",
   "version": "3.10.6"
  }
 },
 "nbformat": 4,
 "nbformat_minor": 5
}
